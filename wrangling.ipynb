{
 "cells": [
  {
   "cell_type": "markdown",
   "metadata": {},
   "source": [
    "# Quarterly Campaign Disclosures for General 2020 Candidate Committees\n",
    "\n",
    "This notebook includes a semi-automated walk-through of wrangling campaign finance data disclosed by committees of candidates for state and local offices in Missouri's General election.\n",
    "\n",
    "## Downloads (manual)\n",
    "\n",
    "To update our copy of the data, we first have to manually download a couple of files from the Missouri Ethics Commission's website ([mec.mo.gov](https://mec.mo.gov/)):\n",
    "\n",
    "1. Report Summaries\n",
    "  - Go to [`https://www.mec.mo.gov/MEC/Campaign_Finance/CF_ContrCSV.aspx`](https://www.mec.mo.gov/MEC/Campaign_Finance/CF_ContrCSV.aspx)\n",
    "  - For Report Type, select **Report Summary**\n",
    "  - For Year, select **2020**\n",
    "  - Click the \"Export to CSV\" button\n",
    "  - Save the file in the `data/` directory of this repository with the file name `report-summaries-2020.csv`\n",
    "2. Candidates\n",
    "  - Go to [`https://mec.mo.gov/MEC/Campaign_Finance/CF12_SearchElection.aspx`](https://mec.mo.gov/MEC/Campaign_Finance/CF12_SearchElection.aspx)\n",
    "  - For Election Year, select **2020**\n",
    "  - For Election Date, select **11/03/2020**\n",
    "  - Save the file in the `data/` directory of this repository with the file name `candidates-2020-11-03.xls`\n",
    "  \n",
    "Once you've downloaded these files, you can re-run all the cells in the notebook to get an update version of the processed data.  "
   ]
  },
  {
   "cell_type": "markdown",
   "metadata": {},
   "source": [
    "## Dependencies"
   ]
  },
  {
   "cell_type": "code",
   "execution_count": 1,
   "metadata": {},
   "outputs": [],
   "source": [
    "import pandas as pd"
   ]
  },
  {
   "cell_type": "markdown",
   "metadata": {},
   "source": [
    "## Report summaries\n",
    "\n",
    "When we read data into a new dataframe, pandas by default will infer each column's data type. This default behavior often works well enough, especially for an initial exploration of the data.\n",
    "\n",
    "However, we can also explicitly specify the data types for any column when reading data into a new dataframe, and this extra step has a couple of benefits:\n",
    "\n",
    "- We get the exact data types—with the exact methods and attributes—that we want.\n",
    "- We gain some non-trival efficiency when reading into a dataframe, especially from really large source files.\n",
    "\n",
    "To specify each data type, we can define a `dict` that maps the column labels pandas [`dtypes`](https://pandas.pydata.org/pandas-docs/stable/user_guide/basics.html#basics-dtypes):"
   ]
  },
  {
   "cell_type": "code",
   "execution_count": 2,
   "metadata": {},
   "outputs": [],
   "source": [
    "report_summary_data_types = {\n",
    "    \"MECID\": \"string\",\n",
    "    \"Committee Name\": \"string\",\n",
    "    \"Report\": \"string\",\n",
    "    \"Report Year\": \"Int64\",\n",
    "    \"Report Type\": \"string\",\n",
    "    \"Previous Receipts\": \"float\",\n",
    "    \"Contributions Received\": \"float\",\n",
    "    \"Loans Received\": \"float\",\n",
    "    \" Misc. Receipts\": \"float\",\n",
    "    \" Receipts Subtotal\": \"float\",\n",
    "    \"In-Kind Contributions\": \"float\",\n",
    "    \" Total Receipts This Election\": \"float\",\n",
    "    \"Previous Expenditures\": \"float\",\n",
    "    \"Cash or Check Expenditures\": \"float\",\n",
    "    \"In-Kind Expenditures\": \"float\",\n",
    "    \"Credit Expenditures\": \"float\",\n",
    "    \"Expenditure Subtotal\": \"float\",\n",
    "    \"Total Expenditures\": \"float\",\n",
    "    \"Previous Contributions\": \"float\",\n",
    "    \"Cash/Check Contributions\": \"float\",\n",
    "    \"Credit Contributions\": \"float\",\n",
    "    \"In-Kind Contributions1\": \"float\",\n",
    "    \"Contribution Subtotal\": \"float\",\n",
    "    \"Total Contributions\": \"float\",\n",
    "    \"Loan Disbursements\": \"float\",\n",
    "    \"Disbursements Payments\": \"float\",\n",
    "    \"Misc. Disbursements\": \"float\",\n",
    "    \"Total Disbursements\": \"float\",\n",
    "    \"Starting Money on Hand\": \"float\",\n",
    "    \" Monetary Receipts\": \"float\",\n",
    "    \"Check Disbursements\": \"float\",\n",
    "    \"Cash Disbursements\": \"float\",\n",
    "    \"Total Monetary Disbursements\": \"float\",\n",
    "    \"Ending Money on Hand\": \"float\",\n",
    "    \"Outstanding Indebtedness\": \"float\",\n",
    "    \"Loans Recieved\": \"float\",\n",
    "    \"New Expenditures\": \"float\",\n",
    "    \"New Contributions\": \"float\",\n",
    "    \"Payments Made on Loan\": \"float\",\n",
    "    \"Debt Forgiven on Loans\": \"float\",\n",
    "    \"Total Indebtendness\": \"float\",\n",
    "}"
   ]
  },
  {
   "cell_type": "markdown",
   "metadata": {},
   "source": [
    "Then we can read in this csv file while passing in our dtype mapping."
   ]
  },
  {
   "cell_type": "code",
   "execution_count": 3,
   "metadata": {},
   "outputs": [],
   "source": [
    "report_summaries = pd.read_csv(\"data/report-summaries-2020.csv\", dtype=report_summary_data_types)"
   ]
  },
  {
   "cell_type": "markdown",
   "metadata": {},
   "source": [
    "The provided column headers are not optimal for use in Python. So let's fix them!"
   ]
  },
  {
   "cell_type": "code",
   "execution_count": 4,
   "metadata": {},
   "outputs": [],
   "source": [
    "report_summaries.columns = report_summaries.columns \\\n",
    "    .str.strip() \\\n",
    "    .str.lower() \\\n",
    "    .str.replace(' ', '_') \\\n",
    "    .str.replace('-', '_') \\\n",
    "    .str.replace('.', '') \\\n",
    "    .str.replace('/', '_')  "
   ]
  },
  {
   "cell_type": "markdown",
   "metadata": {},
   "source": [
    "Now let's look at the full list of columns."
   ]
  },
  {
   "cell_type": "code",
   "execution_count": 5,
   "metadata": {},
   "outputs": [
    {
     "name": "stdout",
     "output_type": "stream",
     "text": [
      "<class 'pandas.core.frame.DataFrame'>\n",
      "RangeIndex: 13924 entries, 0 to 13923\n",
      "Data columns (total 41 columns):\n",
      " #   Column                        Non-Null Count  Dtype  \n",
      "---  ------                        --------------  -----  \n",
      " 0   mecid                         13924 non-null  string \n",
      " 1   committee_name                13924 non-null  string \n",
      " 2   report                        13924 non-null  string \n",
      " 3   report_year                   13924 non-null  Int64  \n",
      " 4   report_type                   13924 non-null  string \n",
      " 5   previous_receipts             10543 non-null  float64\n",
      " 6   contributions_received        10543 non-null  float64\n",
      " 7   loans_received                10543 non-null  float64\n",
      " 8   misc_receipts                 10543 non-null  float64\n",
      " 9   receipts_subtotal             10543 non-null  float64\n",
      " 10  in_kind_contributions         10543 non-null  float64\n",
      " 11  total_receipts_this_election  10543 non-null  float64\n",
      " 12  previous_expenditures         10543 non-null  float64\n",
      " 13  cash_or_check_expenditures    10543 non-null  float64\n",
      " 14  in_kind_expenditures          10543 non-null  float64\n",
      " 15  credit_expenditures           10543 non-null  float64\n",
      " 16  expenditure_subtotal          10543 non-null  float64\n",
      " 17  total_expenditures            10543 non-null  float64\n",
      " 18  previous_contributions        10543 non-null  float64\n",
      " 19  cash_check_contributions      10543 non-null  float64\n",
      " 20  credit_contributions          10543 non-null  float64\n",
      " 21  in_kind_contributions1        10543 non-null  float64\n",
      " 22  contribution_subtotal         10543 non-null  float64\n",
      " 23  total_contributions           10543 non-null  float64\n",
      " 24  loan_disbursements            10543 non-null  float64\n",
      " 25  disbursements_payments        10543 non-null  float64\n",
      " 26  misc_disbursements            10543 non-null  float64\n",
      " 27  total_disbursements           10543 non-null  float64\n",
      " 28  starting_money_on_hand        10543 non-null  float64\n",
      " 29  monetary_receipts             10543 non-null  float64\n",
      " 30  check_disbursements           10543 non-null  float64\n",
      " 31  cash_disbursements            10543 non-null  float64\n",
      " 32  total_monetary_disbursements  10543 non-null  float64\n",
      " 33  ending_money_on_hand          10543 non-null  float64\n",
      " 34  outstanding_indebtedness      10543 non-null  float64\n",
      " 35  loans_recieved                10543 non-null  float64\n",
      " 36  new_expenditures              10543 non-null  float64\n",
      " 37  new_contributions             10543 non-null  float64\n",
      " 38  payments_made_on_loan         10543 non-null  float64\n",
      " 39  debt_forgiven_on_loans        10543 non-null  float64\n",
      " 40  total_indebtendness           10543 non-null  float64\n",
      "dtypes: Int64(1), float64(36), string(4)\n",
      "memory usage: 4.4 MB\n"
     ]
    }
   ],
   "source": [
    "report_summaries.info()"
   ]
  },
  {
   "cell_type": "markdown",
   "metadata": {},
   "source": [
    "Next, let's create a new dataframe by filtering down to just the quarterly reports for 2020. In this step, we will also reset the index and drop the index from the original dataframe and drop the `committee_name` column, which will be redundant once we merge the report summaries with the candidates."
   ]
  },
  {
   "cell_type": "code",
   "execution_count": 6,
   "metadata": {},
   "outputs": [],
   "source": [
    "quarterly_report_summaries = report_summaries[report_summaries.report.str.contains('Quarterly', case=False)] \\\n",
    "    .reset_index(drop=True) \\\n",
    "    .drop(columns=['committee_name',])"
   ]
  },
  {
   "cell_type": "markdown",
   "metadata": {},
   "source": [
    "It would be useful to be able to sort these report summaries by month. To allow that, we'll create a `month_num` column derived from the `report` column.\n",
    "\n",
    "First, we need a function for getting the month_num based on the report name. Here's a really simple one:"
   ]
  },
  {
   "cell_type": "code",
   "execution_count": 7,
   "metadata": {},
   "outputs": [],
   "source": [
    "def get_month_num(report):\n",
    "    if 'January' in report:\n",
    "        return 1\n",
    "    elif 'April' in report:\n",
    "        return 4\n",
    "    elif 'July' in report:\n",
    "        return 7\n",
    "    elif 'October' in report:\n",
    "        return 10"
   ]
  },
  {
   "cell_type": "markdown",
   "metadata": {},
   "source": [
    "Then we apply this function to every value in the report column in order to get the value for the new column."
   ]
  },
  {
   "cell_type": "code",
   "execution_count": 8,
   "metadata": {},
   "outputs": [],
   "source": [
    "quarterly_report_summaries['month_num'] = quarterly_report_summaries.report.apply(get_month_num)"
   ]
  },
  {
   "cell_type": "code",
   "execution_count": 9,
   "metadata": {},
   "outputs": [
    {
     "data": {
      "text/plain": [
       "7     2817\n",
       "4     2685\n",
       "1     2300\n",
       "10    2285\n",
       "Name: month_num, dtype: int64"
      ]
     },
     "execution_count": 9,
     "metadata": {},
     "output_type": "execute_result"
    }
   ],
   "source": [
    "quarterly_report_summaries.month_num.value_counts()"
   ]
  },
  {
   "cell_type": "code",
   "execution_count": 10,
   "metadata": {},
   "outputs": [
    {
     "data": {
      "text/plain": [
       "10087"
      ]
     },
     "execution_count": 10,
     "metadata": {},
     "output_type": "execute_result"
    }
   ],
   "source": [
    "len(quarterly_report_summaries)"
   ]
  },
  {
   "cell_type": "code",
   "execution_count": 11,
   "metadata": {},
   "outputs": [
    {
     "data": {
      "text/plain": [
       "9734"
      ]
     },
     "execution_count": 11,
     "metadata": {},
     "output_type": "execute_result"
    }
   ],
   "source": [
    "2817 + 2685 + 2300 + 1932"
   ]
  },
  {
   "cell_type": "markdown",
   "metadata": {},
   "source": [
    "## Candidates\n",
    "\n",
    "Just as we were when reading in the report summaries, let's specify our dtypes"
   ]
  },
  {
   "cell_type": "code",
   "execution_count": 12,
   "metadata": {},
   "outputs": [],
   "source": [
    "candidate_data_types = {\n",
    "    'MECID': \"string\",\n",
    "    'Committee Name': \"string\",\n",
    "    'Candidate Name': \"string\",\n",
    "    # categorical?\n",
    "    'Party': \"string\",\n",
    "    # categorical?\n",
    "    'Office Sought': \"string\",\n",
    "    # categorical?\n",
    "    'Status': \"string\",\n",
    "}"
   ]
  },
  {
   "cell_type": "markdown",
   "metadata": {},
   "source": [
    "Can't get pandas to read this source as an Excel file, but it does look and parse like an HTML table."
   ]
  },
  {
   "cell_type": "code",
   "execution_count": 13,
   "metadata": {},
   "outputs": [],
   "source": [
    "candidates = pd.read_html('data/candidates-2020-11-03.xls')[0] \\\n",
    "    .astype(candidate_data_types) \\\n",
    "    .fillna(\"\")"
   ]
  },
  {
   "cell_type": "markdown",
   "metadata": {},
   "source": [
    "Again, fix the columns:"
   ]
  },
  {
   "cell_type": "code",
   "execution_count": 14,
   "metadata": {},
   "outputs": [],
   "source": [
    "candidates.columns = candidates.columns \\\n",
    "    .str.strip() \\\n",
    "    .str.lower() \\\n",
    "    .str.replace(\" \", \"_\")"
   ]
  },
  {
   "cell_type": "code",
   "execution_count": 15,
   "metadata": {},
   "outputs": [
    {
     "name": "stdout",
     "output_type": "stream",
     "text": [
      "<class 'pandas.core.frame.DataFrame'>\n",
      "RangeIndex: 680 entries, 0 to 679\n",
      "Data columns (total 6 columns):\n",
      " #   Column          Non-Null Count  Dtype \n",
      "---  ------          --------------  ----- \n",
      " 0   mecid           680 non-null    string\n",
      " 1   committee_name  680 non-null    string\n",
      " 2   candidate_name  680 non-null    string\n",
      " 3   party           680 non-null    string\n",
      " 4   office_sought   680 non-null    string\n",
      " 5   status          680 non-null    string\n",
      "dtypes: string(6)\n",
      "memory usage: 32.0 KB\n"
     ]
    }
   ],
   "source": [
    "candidates.info()"
   ]
  },
  {
   "cell_type": "markdown",
   "metadata": {},
   "source": [
    "We can use the `office_sought` to filter down to the get the exact candidates we want. But first, we have to figure get all the unique values of this column:"
   ]
  },
  {
   "cell_type": "code",
   "execution_count": 16,
   "metadata": {
    "collapsed": true,
    "jupyter": {
     "outputs_hidden": true
    }
   },
   "outputs": [
    {
     "data": {
      "text/plain": [
       "['Assessor - Bates County',\n",
       " 'Assessor - Boone County',\n",
       " 'Assessor - Buchanan County',\n",
       " 'Assessor - Cass County',\n",
       " 'Assessor - Clark County',\n",
       " 'Assessor - Clay County',\n",
       " 'Assessor - Cole County',\n",
       " 'Assessor - Crawford County',\n",
       " 'Assessor - Daviess County',\n",
       " 'Assessor - Dent County',\n",
       " 'Assessor - Franklin County',\n",
       " 'Assessor - Greene County',\n",
       " 'Assessor - Jefferson County',\n",
       " 'Assessor - Marion County',\n",
       " 'Assessor - Moniteau County',\n",
       " 'Assessor - Monroe County',\n",
       " 'Assessor - Ozark County',\n",
       " 'Assessor - Pettis County',\n",
       " 'Assessor - Pike County',\n",
       " 'Assessor - Platte County',\n",
       " 'Assessor - Ray County',\n",
       " 'Assessor - Scott County',\n",
       " 'Assessor - St. Francois County',\n",
       " 'Assessor - Warren County',\n",
       " 'Assessor - Washington County',\n",
       " 'Associate Circuit Judge - Cole County',\n",
       " 'Associate Circuit Judge - St. Charles County',\n",
       " 'Associate Commissioner - Adair County',\n",
       " 'Associate Commissioner - Barry County',\n",
       " 'Associate Commissioner - Bates County',\n",
       " 'Associate Commissioner - Boone County',\n",
       " 'Associate Commissioner - Callaway County',\n",
       " 'Associate Commissioner - Camden County',\n",
       " 'Associate Commissioner - Cape Girardeau County',\n",
       " 'Associate Commissioner - Cass County',\n",
       " 'Associate Commissioner - Cedar County',\n",
       " 'Associate Commissioner - Chariton County',\n",
       " 'Associate Commissioner - Clay County',\n",
       " 'Associate Commissioner - Commission District 2 - Cass County',\n",
       " 'Associate Commissioner - Crawford County',\n",
       " 'Associate Commissioner - Daviess County',\n",
       " 'Associate Commissioner - DeKalb County',\n",
       " 'Associate Commissioner - Dent County',\n",
       " 'Associate Commissioner - District 1 (Southern) - Boone County',\n",
       " 'Associate Commissioner - District 1 - Adair County',\n",
       " 'Associate Commissioner - District 1 - Dent County',\n",
       " 'Associate Commissioner - District 1 - Franklin County',\n",
       " 'Associate Commissioner - District 1 - Greene County',\n",
       " 'Associate Commissioner - District 1 - Newton County',\n",
       " 'Associate Commissioner - District 1 - Platte County',\n",
       " 'Associate Commissioner - District 1 - Stoddard County',\n",
       " 'Associate Commissioner - District 1 South - Cass County',\n",
       " 'Associate Commissioner - District 2 - Boone County',\n",
       " 'Associate Commissioner - District 2 - Franklin County',\n",
       " 'Associate Commissioner - District 2 - Greene County',\n",
       " 'Associate Commissioner - District 2 - Platte County',\n",
       " 'Associate Commissioner - District 2 - Texas County',\n",
       " 'Associate Commissioner - Eastern - Buchanan County',\n",
       " 'Associate Commissioner - Eastern - Cole County',\n",
       " 'Associate Commissioner - Eastern - Jasper County',\n",
       " 'Associate Commissioner - Eastern - Johnson County',\n",
       " 'Associate Commissioner - Eastern District - Christian County',\n",
       " 'Associate Commissioner - Eastern District - Clay County',\n",
       " 'Associate Commissioner - Eastern District - Morgan County',\n",
       " 'Associate Commissioner - Eastern District - Pettis County',\n",
       " 'Associate Commissioner - Eastern District - Randolph County',\n",
       " 'Associate Commissioner - Greene County',\n",
       " 'Associate Commissioner - Grundy County',\n",
       " 'Associate Commissioner - Howell County',\n",
       " 'Associate Commissioner - Iron County',\n",
       " 'Associate Commissioner - Johnson County',\n",
       " 'Associate Commissioner - Laclede County',\n",
       " 'Associate Commissioner - Lafayette County',\n",
       " 'Associate Commissioner - Linn County',\n",
       " 'Associate Commissioner - Livingston County',\n",
       " 'Associate Commissioner - McDonald County',\n",
       " 'Associate Commissioner - Miller County',\n",
       " 'Associate Commissioner - Moniteau County',\n",
       " 'Associate Commissioner - Monroe County',\n",
       " 'Associate Commissioner - Montgomery County',\n",
       " 'Associate Commissioner - Nodaway County',\n",
       " 'Associate Commissioner - North - Dallas County',\n",
       " 'Associate Commissioner - Northern District - Warren County',\n",
       " 'Associate Commissioner - Osage County',\n",
       " 'Associate Commissioner - Perry County',\n",
       " 'Associate Commissioner - Pettis County',\n",
       " 'Associate Commissioner - Phelps County',\n",
       " 'Associate Commissioner - Pike County',\n",
       " 'Associate Commissioner - Platte County',\n",
       " 'Associate Commissioner - Polk County',\n",
       " 'Associate Commissioner - Ralls County',\n",
       " 'Associate Commissioner - Randolph County',\n",
       " 'Associate Commissioner - Ray County',\n",
       " 'Associate Commissioner - Reynolds County',\n",
       " 'Associate Commissioner - Ripley County',\n",
       " 'Associate Commissioner - Saline County',\n",
       " 'Associate Commissioner - Scott County',\n",
       " 'Associate Commissioner - Southern - Benton County',\n",
       " 'Associate Commissioner - Southern - Vernon County',\n",
       " 'Associate Commissioner - St. Clair County',\n",
       " 'Associate Commissioner - St. Francois County',\n",
       " 'Associate Commissioner - Ste. Genevieve County',\n",
       " 'Associate Commissioner - Stoddard County',\n",
       " 'Associate Commissioner - Stone County',\n",
       " 'Associate Commissioner - Taney County',\n",
       " 'Associate Commissioner - Texas County',\n",
       " 'Associate Commissioner - Vernon County',\n",
       " 'Associate Commissioner - Warren County',\n",
       " 'Associate Commissioner - Wayne County',\n",
       " 'Associate Commissioner - Western - Clay County',\n",
       " 'Associate Commissioner - Western District - Chariton County',\n",
       " 'Associate Commissioner - Western District - Cole County',\n",
       " 'Associate Commissioner - Western District - Cooper County',\n",
       " 'Associate Commissioner - Western District - Ozark County',\n",
       " 'Associate Commissioner - Western District - Pulaski County',\n",
       " 'Associate Commissioner - Wright County',\n",
       " 'Attorney General',\n",
       " 'Auditor - Franklin County',\n",
       " 'Auditor - Saline County',\n",
       " 'Circuit Attorney - City of St. Louis',\n",
       " 'Circuit Judge',\n",
       " 'Collector of Revenue - Johnson County',\n",
       " 'Collector-Treasurer - Livingston County',\n",
       " 'Collector-Treasurer - Stoddard County',\n",
       " 'Committeeman - City of St. Louis',\n",
       " 'Committeeman - Jackson County',\n",
       " 'Committeeman - Meramec Township - St. Louis County',\n",
       " 'Committeeman - St. Louis County',\n",
       " 'Committeeman - Ward 11 - City of St. Louis',\n",
       " 'Committeeman - Ward 18 - City of St. Louis',\n",
       " 'Committeeman - Ward 23 - City of St. Louis',\n",
       " 'Committeeman - Ward 24 - City of St. Louis',\n",
       " 'Committeeman - Ward 5 - City of St. Louis',\n",
       " 'Committeeman - Ward 8 - City of St. Louis',\n",
       " 'Committeewoman - City of St. Louis',\n",
       " 'Committeewoman - Creve Coeur Township - St. Louis County',\n",
       " 'Committeewoman - Jackson County',\n",
       " 'Committeewoman - Prairie Township - Jackson County',\n",
       " 'Committeewoman - St. Louis County',\n",
       " 'Committeewoman - Ward 16 - Jackson County',\n",
       " 'Committeewoman - Ward 18 - City of St. Louis',\n",
       " 'Committeewoman - Ward 26 - City of St. Louis',\n",
       " 'Committeewoman - Ward 4 - City of St. Louis',\n",
       " 'Coroner - Barry County',\n",
       " 'Coroner - Bates County',\n",
       " 'Coroner - Bollinger County',\n",
       " 'Coroner - Butler County',\n",
       " 'Coroner - Cape Girardeau County',\n",
       " 'Coroner - Howard County',\n",
       " 'Coroner - Linn County',\n",
       " 'Coroner - Livingston County',\n",
       " 'Coroner - Polk County',\n",
       " 'Coroner - Pulaski County',\n",
       " 'Coroner - Randolph County',\n",
       " 'Coroner - Scott County',\n",
       " 'Coroner - Stoddard County',\n",
       " 'Coroner - Taney County',\n",
       " 'Coroner - Webster County',\n",
       " 'Council Person - City of St. Charles',\n",
       " 'County Clerk - Pike County',\n",
       " 'County Council - District 2 - Jefferson County',\n",
       " 'County Council - District 2 - St. Louis County',\n",
       " 'County Council - District 4 - Jefferson County',\n",
       " 'County Council - District 6 - St. Louis County',\n",
       " 'County Council - St. Charles County',\n",
       " 'County Council - St. Louis County',\n",
       " 'County Executive - St. Louis County',\n",
       " 'County Municipal Judge - Franklin County',\n",
       " 'Governor - Office of the Governor',\n",
       " 'Governor - State of Missouri - Office of the Governor',\n",
       " 'Lieutenant Governor',\n",
       " 'Lieutenant Governor - Office of the Lieutenant Governor',\n",
       " 'Prosecuting Attorney - Jackson County',\n",
       " 'Public Administrator - Buchanan County',\n",
       " 'Public Administrator - Butler County',\n",
       " 'Public Administrator - Callaway County',\n",
       " 'Public Administrator - Cass County',\n",
       " 'Public Administrator - Clay County',\n",
       " 'Public Administrator - Cole County',\n",
       " 'Public Administrator - Cooper County',\n",
       " 'Public Administrator - District 16 - Pulaski County',\n",
       " 'Public Administrator - Franklin County',\n",
       " 'Public Administrator - Gentry County',\n",
       " 'Public Administrator - Jefferson County',\n",
       " 'Public Administrator - Johnson County',\n",
       " 'Public Administrator - Laclede County',\n",
       " 'Public Administrator - Lafayette County',\n",
       " 'Public Administrator - Lincoln County',\n",
       " 'Public Administrator - Livingston County',\n",
       " 'Public Administrator - Marion County',\n",
       " 'Public Administrator - Nodaway County',\n",
       " 'Public Administrator - Pike County',\n",
       " 'Public Administrator - Ripley County',\n",
       " 'Public Administrator - Taney County',\n",
       " 'Public Administrator - Texas County',\n",
       " 'Public Administrator - Vernon County',\n",
       " 'Public Administrator - Wayne County',\n",
       " 'Secretary of State - Missouri - Office of the Secretary of State',\n",
       " 'Secretary of State - Office of the Secretary of State',\n",
       " 'Sheriff - Adair County',\n",
       " 'Sheriff - Andrew County',\n",
       " 'Sheriff - Audrain County',\n",
       " 'Sheriff - Barry County',\n",
       " 'Sheriff - Barton County',\n",
       " 'Sheriff - Benton County',\n",
       " 'Sheriff - Bollinger County',\n",
       " 'Sheriff - Boone County',\n",
       " 'Sheriff - Buchanan County',\n",
       " 'Sheriff - Caldwell County',\n",
       " 'Sheriff - Callaway County',\n",
       " 'Sheriff - Camden County',\n",
       " 'Sheriff - Cape Girardeau County',\n",
       " 'Sheriff - Carter County',\n",
       " 'Sheriff - Cass County',\n",
       " 'Sheriff - Cedar County',\n",
       " 'Sheriff - Chariton County',\n",
       " 'Sheriff - Christian County',\n",
       " 'Sheriff - City of St. Louis',\n",
       " 'Sheriff - Clay County',\n",
       " 'Sheriff - Clinton County',\n",
       " 'Sheriff - Cole County',\n",
       " 'Sheriff - Cooper County',\n",
       " 'Sheriff - Daviess County',\n",
       " 'Sheriff - Franklin County',\n",
       " 'Sheriff - Gasconade County',\n",
       " 'Sheriff - Gentry County',\n",
       " 'Sheriff - Greene County',\n",
       " 'Sheriff - Harrison County',\n",
       " 'Sheriff - Henry County',\n",
       " 'Sheriff - Howard County',\n",
       " 'Sheriff - Howell County',\n",
       " 'Sheriff - Iron County',\n",
       " 'Sheriff - Jasper County',\n",
       " 'Sheriff - Jefferson County',\n",
       " 'Sheriff - Lincoln County',\n",
       " 'Sheriff - Livingston County',\n",
       " 'Sheriff - Miller County',\n",
       " 'Sheriff - Mississippi County',\n",
       " 'Sheriff - Monroe County',\n",
       " 'Sheriff - Montgomery County',\n",
       " 'Sheriff - Morgan County',\n",
       " 'Sheriff - New Madrid County',\n",
       " 'Sheriff - Nodaway County',\n",
       " 'Sheriff - Oregon County',\n",
       " 'Sheriff - Ozark County',\n",
       " 'Sheriff - Pettis County',\n",
       " 'Sheriff - Phelps County',\n",
       " 'Sheriff - Platte County',\n",
       " 'Sheriff - Polk County',\n",
       " 'Sheriff - Pulaski County',\n",
       " 'Sheriff - Ralls County',\n",
       " 'Sheriff - Randolph County',\n",
       " 'Sheriff - Ray County',\n",
       " 'Sheriff - Reynolds County',\n",
       " 'Sheriff - Ripley County',\n",
       " 'Sheriff - Saline County',\n",
       " 'Sheriff - Scott County',\n",
       " 'Sheriff - Shannon County',\n",
       " 'Sheriff - Shelby County',\n",
       " 'Sheriff - St. Clair County',\n",
       " 'Sheriff - St. Francois County',\n",
       " 'Sheriff - Stoddard County',\n",
       " 'Sheriff - Stone County',\n",
       " 'Sheriff - Taney County',\n",
       " 'Sheriff - Texas County',\n",
       " 'Sheriff - Vernon County',\n",
       " 'Sheriff - Wayne County',\n",
       " 'Sheriff - Wright County',\n",
       " 'State Representative - District 10 - Missouri House of Representatives',\n",
       " 'State Representative - District 100 - Missouri House of Representatives',\n",
       " 'State Representative - District 101 - Missouri House of Representatives',\n",
       " 'State Representative - District 102 - Missouri House of Representatives',\n",
       " 'State Representative - District 103 - Missouri House of Representatives',\n",
       " 'State Representative - District 104 - Missouri House of Representatives',\n",
       " 'State Representative - District 105 - Missouri House of Representatives',\n",
       " 'State Representative - District 106 - Missouri House of Representatives',\n",
       " 'State Representative - District 107 - Missouri House of Representatives',\n",
       " 'State Representative - District 108 - Missouri House of Representatives',\n",
       " 'State Representative - District 109 - Missouri House of Representatives',\n",
       " 'State Representative - District 11 - Missouri House of Representatives',\n",
       " 'State Representative - District 110 - Missouri House of Representatives',\n",
       " 'State Representative - District 111 - Missouri House of Representatives',\n",
       " 'State Representative - District 112 - Missouri House of Representatives',\n",
       " 'State Representative - District 113 - Missouri House of Representatives',\n",
       " 'State Representative - District 114 - Missouri House of Representatives',\n",
       " 'State Representative - District 115 - Missouri House of Representatives',\n",
       " 'State Representative - District 116 - Missouri House of Representatives',\n",
       " 'State Representative - District 117 - Missouri House of Representatives',\n",
       " 'State Representative - District 118 - Missouri House of Representatives',\n",
       " 'State Representative - District 119 - Missouri House of Representatives',\n",
       " 'State Representative - District 12 - Missouri House of Representatives',\n",
       " 'State Representative - District 120 - Missouri House of Representatives',\n",
       " 'State Representative - District 121 - Missouri House of Representatives',\n",
       " 'State Representative - District 122 - Missouri House of Representatives',\n",
       " 'State Representative - District 123 - Missouri House of Representatives',\n",
       " 'State Representative - District 124 - Missouri House of Representatives',\n",
       " 'State Representative - District 125 - Missouri House of Representatives',\n",
       " 'State Representative - District 126 - Missouri House of Representatives',\n",
       " 'State Representative - District 127 - Missouri House of Representatives',\n",
       " 'State Representative - District 128 - Missouri House of Representatives',\n",
       " 'State Representative - District 129 - Missouri House of Representatives',\n",
       " 'State Representative - District 13 - Missouri House of Representatives',\n",
       " 'State Representative - District 130 - Missouri House of Representatives',\n",
       " 'State Representative - District 131 - Missouri House of Representatives',\n",
       " 'State Representative - District 132 - Missouri House of Representatives',\n",
       " 'State Representative - District 133 - Missouri House of Representatives',\n",
       " 'State Representative - District 134 - Missouri House of Representatives',\n",
       " 'State Representative - District 135 - Missouri House of Representatives',\n",
       " 'State Representative - District 136 - Missouri House of Representatives',\n",
       " 'State Representative - District 137 - Missouri House of Representatives',\n",
       " 'State Representative - District 138 - Missouri House of Representatives',\n",
       " 'State Representative - District 139 - Missouri House of Representatives',\n",
       " 'State Representative - District 14 - Missouri House of Representatives',\n",
       " 'State Representative - District 140 - Missouri House of Representatives',\n",
       " 'State Representative - District 141 - Missouri House of Representatives',\n",
       " 'State Representative - District 142 - Missouri House of Representatives',\n",
       " 'State Representative - District 143 - Missouri House of Representatives',\n",
       " 'State Representative - District 144 - Missouri House of Representatives',\n",
       " 'State Representative - District 145 - Missouri House of Representatives',\n",
       " 'State Representative - District 146 - Missouri House of Representatives',\n",
       " 'State Representative - District 147 - Missouri House of Representatives',\n",
       " 'State Representative - District 148 - Missouri House of Representatives',\n",
       " 'State Representative - District 149 - Missouri House of Representatives',\n",
       " 'State Representative - District 15 - Missouri House of Representatives',\n",
       " 'State Representative - District 150 - Missouri House of Representatives',\n",
       " 'State Representative - District 151 - Missouri House of Representatives',\n",
       " 'State Representative - District 152 - Missouri House of Representatives',\n",
       " 'State Representative - District 153 - Missouri House of Representatives',\n",
       " 'State Representative - District 154 - Missouri House of Representatives',\n",
       " 'State Representative - District 155 - Missouri House of Representatives',\n",
       " 'State Representative - District 156 - Missouri House of Representatives',\n",
       " 'State Representative - District 157 - Missouri House of Representatives',\n",
       " 'State Representative - District 158 - Missouri House of Representatives',\n",
       " 'State Representative - District 159 - Missouri House of Representatives',\n",
       " 'State Representative - District 16 - Missouri House of Representatives',\n",
       " 'State Representative - District 160 - Missouri House of Representatives',\n",
       " 'State Representative - District 161 - Missouri House of Representatives',\n",
       " 'State Representative - District 162 - Missouri House of Representatives',\n",
       " 'State Representative - District 163 - Missouri House of Representatives',\n",
       " 'State Representative - District 17 - Missouri House of Representatives',\n",
       " 'State Representative - District 18 - Missouri House of Representatives',\n",
       " 'State Representative - District 19 - Missouri House of Representatives',\n",
       " 'State Representative - District 2 - Missouri House of Representatives',\n",
       " 'State Representative - District 20 - Missouri House of Representatives',\n",
       " 'State Representative - District 21 - Missouri House of Representatives',\n",
       " 'State Representative - District 22 - Missouri House of Representatives',\n",
       " 'State Representative - District 23 - Missouri House of Representatives',\n",
       " 'State Representative - District 24 - Missouri House of Representatives',\n",
       " 'State Representative - District 25 - Missouri House of Representatives',\n",
       " 'State Representative - District 26 - Missouri House of Representatives',\n",
       " 'State Representative - District 27 - Missouri House of Representatives',\n",
       " 'State Representative - District 28 - Missouri House of Representatives',\n",
       " 'State Representative - District 29 - Missouri House of Representatives',\n",
       " 'State Representative - District 3 - Missouri House of Representatives',\n",
       " 'State Representative - District 30 - Missouri House of Representatives',\n",
       " 'State Representative - District 31 - Missouri House of Representatives',\n",
       " 'State Representative - District 32 - Missouri House of Representatives',\n",
       " 'State Representative - District 33 - Missouri House of Representatives',\n",
       " 'State Representative - District 34 - Missouri House of Representatives',\n",
       " 'State Representative - District 35 - Missouri House of Representatives',\n",
       " 'State Representative - District 36 - Missouri House of Representatives',\n",
       " 'State Representative - District 37 - Missouri House of Representatives',\n",
       " 'State Representative - District 38 - Missouri House of Representatives',\n",
       " 'State Representative - District 39 - Missouri House of Representatives',\n",
       " 'State Representative - District 4 - Missouri House of Representatives',\n",
       " 'State Representative - District 40 - Missouri House of Representatives',\n",
       " 'State Representative - District 41 - Missouri House of Representatives',\n",
       " 'State Representative - District 42 - Missouri House of Representatives',\n",
       " 'State Representative - District 43 - Missouri House of Representatives',\n",
       " 'State Representative - District 44 - Missouri House of Representatives',\n",
       " 'State Representative - District 45 - Missouri House of Representatives',\n",
       " 'State Representative - District 46 - Missouri House of Representatives',\n",
       " 'State Representative - District 47 - Missouri House of Representatives',\n",
       " 'State Representative - District 48 - Missouri House of Representatives',\n",
       " 'State Representative - District 49 - Missouri House of Representatives',\n",
       " 'State Representative - District 5 - Missouri House of Representatives',\n",
       " 'State Representative - District 50 - Missouri House of Representatives',\n",
       " 'State Representative - District 51 - Missouri House of Representatives',\n",
       " 'State Representative - District 52 - Missouri House of Representatives',\n",
       " 'State Representative - District 53 - Missouri House of Representatives',\n",
       " 'State Representative - District 54 - Missouri House of Representatives',\n",
       " 'State Representative - District 55 - Missouri House of Representatives',\n",
       " 'State Representative - District 56 - Missouri House of Representatives',\n",
       " 'State Representative - District 57 - Missouri House of Representatives',\n",
       " 'State Representative - District 58 - Missouri House of Representatives',\n",
       " 'State Representative - District 59 - Missouri House of Representatives',\n",
       " 'State Representative - District 6 - Missouri House of Representatives',\n",
       " 'State Representative - District 60 - Missouri House of Representatives',\n",
       " 'State Representative - District 61 - Missouri House of Representatives',\n",
       " 'State Representative - District 62 - Missouri House of Representatives',\n",
       " 'State Representative - District 63 - Missouri House of Representatives',\n",
       " 'State Representative - District 64 - Missouri House of Representatives',\n",
       " 'State Representative - District 65 - Missouri House of Representatives',\n",
       " 'State Representative - District 66 - Missouri House of Representatives',\n",
       " 'State Representative - District 67 - Missouri House of Representatives',\n",
       " 'State Representative - District 68 - Missouri House of Representatives',\n",
       " 'State Representative - District 69 - Missouri House of Representatives',\n",
       " 'State Representative - District 7 - Missouri House of Representatives',\n",
       " 'State Representative - District 70 - Missouri House of Representatives',\n",
       " 'State Representative - District 71 - Missouri House of Representatives',\n",
       " 'State Representative - District 72 - Missouri House of Representatives',\n",
       " 'State Representative - District 73 - Missouri House of Representatives',\n",
       " 'State Representative - District 74 - Missouri House of Representatives',\n",
       " 'State Representative - District 75 - Missouri House of Representatives',\n",
       " 'State Representative - District 76 - Missouri House of Representatives',\n",
       " 'State Representative - District 77 - Missouri House of Representatives',\n",
       " 'State Representative - District 78 - Missouri House of Representatives',\n",
       " 'State Representative - District 79 - Missouri House of Representatives',\n",
       " 'State Representative - District 8 - Missouri House of Representatives',\n",
       " 'State Representative - District 80 - Missouri House of Representatives',\n",
       " 'State Representative - District 81 - Missouri House of Representatives',\n",
       " 'State Representative - District 82 - Missouri House of Representatives',\n",
       " 'State Representative - District 83 - Missouri House of Representatives',\n",
       " 'State Representative - District 84 - Missouri House of Representatives',\n",
       " 'State Representative - District 85 - Missouri House of Representatives',\n",
       " 'State Representative - District 86 - Missouri House of Representatives',\n",
       " 'State Representative - District 87 - Missouri House of Representatives',\n",
       " 'State Representative - District 88 - Missouri House of Representatives',\n",
       " 'State Representative - District 89 - Missouri House of Representatives',\n",
       " 'State Representative - District 9 - Missouri House of Representatives',\n",
       " 'State Representative - District 90 - Missouri House of Representatives',\n",
       " 'State Representative - District 91 - Missouri House of Representatives',\n",
       " 'State Representative - District 92 - Missouri House of Representatives',\n",
       " 'State Representative - District 93 - Missouri House of Representatives',\n",
       " 'State Representative - District 94 - Missouri House of Representatives',\n",
       " 'State Representative - District 95 - Missouri House of Representatives',\n",
       " 'State Representative - District 96 - Missouri House of Representatives',\n",
       " 'State Representative - District 97 - Missouri House of Representatives',\n",
       " 'State Representative - District 98 - Missouri House of Representatives',\n",
       " 'State Representative - District 99 - Missouri House of Representatives',\n",
       " 'State Representative - Missouri House of Representatives',\n",
       " 'State Senator - District 1 - Missouri State Senate',\n",
       " 'State Senator - District 11 - Missouri State Senate',\n",
       " 'State Senator - District 13 - Missouri State Senate',\n",
       " 'State Senator - District 15 - Missouri State Senate',\n",
       " 'State Senator - District 17 - Missouri State Senate',\n",
       " 'State Senator - District 19 - Missouri State Senate',\n",
       " 'State Senator - District 21 - Missouri State Senate',\n",
       " 'State Senator - District 23 - Missouri State Senate',\n",
       " 'State Senator - District 25 - Missouri State Senate',\n",
       " 'State Senator - District 27 - Missouri State Senate',\n",
       " 'State Senator - District 29 - Missouri State Senate',\n",
       " 'State Senator - District 3 - Missouri State Senate',\n",
       " 'State Senator - District 31 - Missouri State Senate',\n",
       " 'State Senator - District 33 - Missouri State Senate',\n",
       " 'State Senator - District 5 - Missouri State Senate',\n",
       " 'State Senator - District 7 - Missouri State Senate',\n",
       " 'State Senator - District 9 - Missouri State Senate',\n",
       " 'State Treasurer - Office of the State Treasurer',\n",
       " 'Treasurer - Boone County',\n",
       " 'Treasurer - Buchanan County',\n",
       " 'Treasurer - Camden County',\n",
       " 'Treasurer - Cass County',\n",
       " 'Treasurer - Christian County',\n",
       " 'Treasurer - City of St. Louis',\n",
       " 'Treasurer - Clay County',\n",
       " 'Treasurer - Pettis County',\n",
       " 'Treasurer - St. Francois County']"
      ]
     },
     "execution_count": 16,
     "metadata": {},
     "output_type": "execute_result"
    }
   ],
   "source": [
    "sorted(candidates.office_sought.unique())"
   ]
  },
  {
   "cell_type": "markdown",
   "metadata": {},
   "source": [
    "Here are the offices we care about."
   ]
  },
  {
   "cell_type": "code",
   "execution_count": 17,
   "metadata": {},
   "outputs": [],
   "source": [
    "target_offices = [\n",
    "    \"State Senator - District 19 - Missouri State Senate\",\n",
    "    \"State Representative - District 44 - Missouri House of Representatives\",\n",
    "    \"State Representative - District 47 - Missouri House of Representatives\",\n",
    "    \"State Representative - District 50 - Missouri House of Representatives\",\n",
    "    \"Secretary of State - Missouri - Office of the Secretary of State\",\n",
    "    \"Secretary of State - Office of the Secretary of State\",\n",
    "    \"Governor - Office of the Governor\",\n",
    "    \"Governor - State of Missouri - Office of the Governor\",\n",
    "    \"State Treasurer - Office of the State Treasurer\",\n",
    "    \"Lieutenant Governor\",\n",
    "    \"Lieutenant Governor - Office of the Lieutenant Governor\",\n",
    "    \"Associate Commissioner - Boone County\",\n",
    "    \"Associate Commissioner - District 1 (Southern) - Boone County\",\n",
    "    \"Associate Commissioner - District 2 - Boone County\",\n",
    "    \"Sheriff - Boone County\",\n",
    "]"
   ]
  },
  {
   "cell_type": "markdown",
   "metadata": {},
   "source": [
    "We can use this list to set up a filter."
   ]
  },
  {
   "cell_type": "code",
   "execution_count": 18,
   "metadata": {},
   "outputs": [],
   "source": [
    "office_filter = candidates['office_sought'].isin(target_offices)"
   ]
  },
  {
   "cell_type": "markdown",
   "metadata": {},
   "source": [
    "And then use that filter, along with another filter for \"active\" candidates, to get the exact subset of candidates we care about."
   ]
  },
  {
   "cell_type": "code",
   "execution_count": 19,
   "metadata": {},
   "outputs": [],
   "source": [
    "target_candidates = candidates[candidates.status.eq('A') & office_filter] \\\n",
    "    .reset_index(drop=True) \\\n",
    "    .drop(columns=['status',])"
   ]
  },
  {
   "cell_type": "markdown",
   "metadata": {},
   "source": [
    "Also going to add another column here to facilite grouping by office type. This will be derived by splitting the `office_sought` values at the ` - ` substring and taking the first value in the resulting list."
   ]
  },
  {
   "cell_type": "code",
   "execution_count": 20,
   "metadata": {},
   "outputs": [],
   "source": [
    "target_candidates['office_type'] = target_candidates.office_sought.str.split(' - ', expand=True)[0]"
   ]
  },
  {
   "cell_type": "markdown",
   "metadata": {},
   "source": [
    "## Merging\n",
    "\n",
    "The `target_candidates` dataframe has exactly the candidates we want, but `quarterly_reports` still includes non-candidate committees."
   ]
  },
  {
   "cell_type": "code",
   "execution_count": 21,
   "metadata": {},
   "outputs": [],
   "source": [
    "candidate_report_summaries_all_quarters = target_candidates \\\n",
    "    .merge(quarterly_report_summaries, on='mecid', validate='one_to_many') \\\n",
    "    .reset_index(drop=True) \\\n",
    "    .sort_values(['office_sought', 'candidate_name', 'month_num'])"
   ]
  },
  {
   "cell_type": "markdown",
   "metadata": {},
   "source": [
    "## Who's missing?"
   ]
  },
  {
   "cell_type": "markdown",
   "metadata": {},
   "source": [
    "Here are the people who haven't filed yet."
   ]
  },
  {
   "cell_type": "code",
   "execution_count": 22,
   "metadata": {},
   "outputs": [],
   "source": [
    "oct_report_summaries = quarterly_report_summaries[quarterly_report_summaries.month_num.eq(10)]"
   ]
  },
  {
   "cell_type": "code",
   "execution_count": 23,
   "metadata": {},
   "outputs": [],
   "source": [
    "candidate_report_summaries_oct = target_candidates \\\n",
    "    .merge(oct_report_summaries, on='mecid', validate='one_to_many', how=\"left\") \\\n",
    "    .reset_index(drop=True) \\\n",
    "    .sort_values(['office_sought', 'candidate_name', 'month_num'])"
   ]
  },
  {
   "cell_type": "code",
   "execution_count": 24,
   "metadata": {},
   "outputs": [],
   "source": [
    "missing_oct_reports = candidate_report_summaries_oct[candidate_report_summaries_oct.report.isna()]"
   ]
  },
  {
   "cell_type": "code",
   "execution_count": 25,
   "metadata": {},
   "outputs": [
    {
     "data": {
      "text/html": [
       "<div>\n",
       "<style scoped>\n",
       "    .dataframe tbody tr th:only-of-type {\n",
       "        vertical-align: middle;\n",
       "    }\n",
       "\n",
       "    .dataframe tbody tr th {\n",
       "        vertical-align: top;\n",
       "    }\n",
       "\n",
       "    .dataframe thead th {\n",
       "        text-align: right;\n",
       "    }\n",
       "</style>\n",
       "<table border=\"1\" class=\"dataframe\">\n",
       "  <thead>\n",
       "    <tr style=\"text-align: right;\">\n",
       "      <th></th>\n",
       "      <th>mecid</th>\n",
       "      <th>committee_name</th>\n",
       "      <th>candidate_name</th>\n",
       "      <th>party</th>\n",
       "      <th>office_sought</th>\n",
       "      <th>office_type</th>\n",
       "    </tr>\n",
       "  </thead>\n",
       "  <tbody>\n",
       "    <tr>\n",
       "      <th>25</th>\n",
       "      <td>C201232E</td>\n",
       "      <td>Jerome H. Bauer</td>\n",
       "      <td>Jerome Bauer</td>\n",
       "      <td>G</td>\n",
       "      <td>Governor - Office of the Governor</td>\n",
       "      <td>Governor</td>\n",
       "    </tr>\n",
       "    <tr>\n",
       "      <th>32</th>\n",
       "      <td>C201322E</td>\n",
       "      <td>Paul T. Lehmann</td>\n",
       "      <td>Paul Lehmann</td>\n",
       "      <td>G</td>\n",
       "      <td>Secretary of State - Office of the Secretary o...</td>\n",
       "      <td>Secretary of State</td>\n",
       "    </tr>\n",
       "    <tr>\n",
       "      <th>20</th>\n",
       "      <td>C111215</td>\n",
       "      <td>Friends Of Caleb Rowden</td>\n",
       "      <td>CALEB ROWDEN</td>\n",
       "      <td>R</td>\n",
       "      <td>State Senator - District 19 - Missouri State S...</td>\n",
       "      <td>State Senator</td>\n",
       "    </tr>\n",
       "  </tbody>\n",
       "</table>\n",
       "</div>"
      ],
      "text/plain": [
       "       mecid           committee_name candidate_name party  \\\n",
       "25  C201232E          Jerome H. Bauer   Jerome Bauer     G   \n",
       "32  C201322E          Paul T. Lehmann   Paul Lehmann     G   \n",
       "20   C111215  Friends Of Caleb Rowden   CALEB ROWDEN     R   \n",
       "\n",
       "                                        office_sought         office_type  \n",
       "25                  Governor - Office of the Governor            Governor  \n",
       "32  Secretary of State - Office of the Secretary o...  Secretary of State  \n",
       "20  State Senator - District 19 - Missouri State S...       State Senator  "
      ]
     },
     "execution_count": 25,
     "metadata": {},
     "output_type": "execute_result"
    }
   ],
   "source": [
    "missing_oct_reports.iloc[:,:6]"
   ]
  },
  {
   "cell_type": "markdown",
   "metadata": {},
   "source": [
    "## Outputting"
   ]
  },
  {
   "cell_type": "code",
   "execution_count": 27,
   "metadata": {},
   "outputs": [],
   "source": [
    "candidate_report_summaries_all_quarters \\\n",
    "    .to_csv(\"candidate-committees-filings-post-oct-q.csv\", index=False)"
   ]
  },
  {
   "cell_type": "code",
   "execution_count": null,
   "metadata": {},
   "outputs": [],
   "source": []
  }
 ],
 "metadata": {
  "kernelspec": {
   "display_name": "Python 3",
   "language": "python",
   "name": "python3"
  },
  "language_info": {
   "codemirror_mode": {
    "name": "ipython",
    "version": 3
   },
   "file_extension": ".py",
   "mimetype": "text/x-python",
   "name": "python",
   "nbconvert_exporter": "python",
   "pygments_lexer": "ipython3",
   "version": "3.8.5"
  }
 },
 "nbformat": 4,
 "nbformat_minor": 4
}
